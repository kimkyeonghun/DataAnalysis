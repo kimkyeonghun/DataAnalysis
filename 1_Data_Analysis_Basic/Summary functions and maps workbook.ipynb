{
  "cells": [
    {
      "metadata": {
        "_uuid": "eefe260736ba6ae7070912a2cb2f0179593974dc",
        "_cell_guid": "ceb3b54f-4199-46e1-acce-7e5d79432f2e"
      },
      "cell_type": "markdown",
      "source": "# Introduction\n\nYou have learned how to select relevant data from `DataFrame` and `Series` objects. Plucking the right data out of our data representation is critical to getting work done.\n\nHowever, the data does not always come in the format we want. Sometimes we have to do some more work ourselves to reformat it for our desired task.\n\nThe remainder of this tutorial will cover different operations we can apply to our data to get the input \"just right\". We'll start off in this section by looking at the most commonly looked built-in reshaping operations. Along the way we'll cover data `dtypes`, a concept essential to working with `pandas` effectively."
    },
    {
      "metadata": {
        "_uuid": "c9843421bc63a259dd07cf4d20f7b375d24c9f7c",
        "_cell_guid": "27cc0f37-f9b5-40da-b1e4-1eca4c26b8df"
      },
      "cell_type": "markdown",
      "source": "# Relevant Resources\n* **[Summary functions and maps](https://www.kaggle.com/residentmario/summary-functions-and-maps-reference)**\n* [Official pandas cheat sheet](https://github.com/pandas-dev/pandas/blob/master/doc/cheatsheet/Pandas_Cheat_Sheet.pdf)\n\n# Set Up\nRun the code cell below to load your data and the necessary utility functions."
    },
    {
      "metadata": {
        "_uuid": "f93afaffdb6993c6fbd1a0229fdb130cf372e8a4",
        "_cell_guid": "fde3f674-6fd0-41f2-bf55-b2af076c065f",
        "trusted": true
      },
      "cell_type": "code",
      "source": "import pandas as pd\npd.set_option('max_rows', 5)\nimport numpy as np\nfrom learntools.advanced_pandas.summary_functions_maps import *\n\nreviews = pd.read_csv(\"../input/wine-reviews/winemag-data-130k-v2.csv\", index_col=0)",
      "execution_count": 18,
      "outputs": []
    },
    {
      "metadata": {
        "_uuid": "f928b1b5d733f9a5abca1f60a5cf84518438d768",
        "_cell_guid": "872d5b77-dc25-41ac-8127-93da91565712"
      },
      "cell_type": "markdown",
      "source": "Look at an overview of your data by running the line below:"
    },
    {
      "metadata": {
        "_uuid": "ffa2d47df5c3119929fee7234fdfdc53ac15071c",
        "_cell_guid": "6a5f3cbe-2b0a-4ef6-816f-65adb866f63c"
      },
      "cell_type": "markdown",
      "source": "# Checking Answers\n\n**Check your answers in each exercise using the  `check_qN` function** (replacing `N` with the number of the exercise). For example here's how you would check an incorrect answer to exercise 1:"
    },
    {
      "metadata": {
        "_uuid": "42bad74646c49cec61bf5f0014200bf37eed46f8",
        "_cell_guid": "547ec9e3-02f9-4b09-885a-3f97fc0bedbe",
        "trusted": true
      },
      "cell_type": "code",
      "source": "check_q1(pd.DataFrame())",
      "execution_count": 2,
      "outputs": [
        {
          "output_type": "execute_result",
          "execution_count": 2,
          "data": {
            "text/plain": "False"
          },
          "metadata": {}
        }
      ]
    },
    {
      "metadata": {
        "_uuid": "aebe052470e69f579b33bfa7c9dbfa5c1b59e31b",
        "_cell_guid": "50b1febe-4440-4c6a-8ea0-9290360d332a"
      },
      "cell_type": "markdown",
      "source": "If you get stuck, **use the `answer_qN` function to see the code with the correct answer.**\n\nFor the first set of questions, running the `check_qN` on the correct answer returns `True`.\n\nFor the second set of questions, using this function to check a correct answer will present an informative graph!\n"
    },
    {
      "metadata": {
        "_uuid": "a921868d97a94733892f77700c894272bfd5c215",
        "_cell_guid": "97d5f969-1ce2-43f5-aab2-97c617fb73a9"
      },
      "cell_type": "markdown",
      "source": "## Exercises\n\nLook at your data by running the cell below:"
    },
    {
      "metadata": {
        "_uuid": "39e56884c533d7c31ef912eace787a0d2dfb2fe3",
        "_cell_guid": "e1b2acaf-1ec9-42cf-a732-7a13fa5131cd",
        "trusted": true
      },
      "cell_type": "code",
      "source": "reviews.head()",
      "execution_count": 19,
      "outputs": [
        {
          "output_type": "execute_result",
          "execution_count": 19,
          "data": {
            "text/plain": "    country         ...                        winery\n0     Italy         ...                       Nicosia\n1  Portugal         ...           Quinta dos Avidagos\n2        US         ...                     Rainstorm\n3        US         ...                    St. Julian\n4        US         ...                  Sweet Cheeks\n\n[5 rows x 13 columns]",
            "text/html": "<div>\n<style scoped>\n    .dataframe tbody tr th:only-of-type {\n        vertical-align: middle;\n    }\n\n    .dataframe tbody tr th {\n        vertical-align: top;\n    }\n\n    .dataframe thead th {\n        text-align: right;\n    }\n</style>\n<table border=\"1\" class=\"dataframe\">\n  <thead>\n    <tr style=\"text-align: right;\">\n      <th></th>\n      <th>country</th>\n      <th>description</th>\n      <th>designation</th>\n      <th>points</th>\n      <th>price</th>\n      <th>province</th>\n      <th>region_1</th>\n      <th>region_2</th>\n      <th>taster_name</th>\n      <th>taster_twitter_handle</th>\n      <th>title</th>\n      <th>variety</th>\n      <th>winery</th>\n    </tr>\n  </thead>\n  <tbody>\n    <tr>\n      <th>0</th>\n      <td>Italy</td>\n      <td>Aromas include tropical fruit, broom, brimston...</td>\n      <td>Vulkà Bianco</td>\n      <td>87</td>\n      <td>NaN</td>\n      <td>Sicily &amp; Sardinia</td>\n      <td>Etna</td>\n      <td>NaN</td>\n      <td>Kerin O’Keefe</td>\n      <td>@kerinokeefe</td>\n      <td>Nicosia 2013 Vulkà Bianco  (Etna)</td>\n      <td>White Blend</td>\n      <td>Nicosia</td>\n    </tr>\n    <tr>\n      <th>1</th>\n      <td>Portugal</td>\n      <td>This is ripe and fruity, a wine that is smooth...</td>\n      <td>Avidagos</td>\n      <td>87</td>\n      <td>15.0</td>\n      <td>Douro</td>\n      <td>NaN</td>\n      <td>NaN</td>\n      <td>Roger Voss</td>\n      <td>@vossroger</td>\n      <td>Quinta dos Avidagos 2011 Avidagos Red (Douro)</td>\n      <td>Portuguese Red</td>\n      <td>Quinta dos Avidagos</td>\n    </tr>\n    <tr>\n      <th>2</th>\n      <td>US</td>\n      <td>Tart and snappy, the flavors of lime flesh and...</td>\n      <td>NaN</td>\n      <td>87</td>\n      <td>14.0</td>\n      <td>Oregon</td>\n      <td>Willamette Valley</td>\n      <td>Willamette Valley</td>\n      <td>Paul Gregutt</td>\n      <td>@paulgwine</td>\n      <td>Rainstorm 2013 Pinot Gris (Willamette Valley)</td>\n      <td>Pinot Gris</td>\n      <td>Rainstorm</td>\n    </tr>\n    <tr>\n      <th>3</th>\n      <td>US</td>\n      <td>Pineapple rind, lemon pith and orange blossom ...</td>\n      <td>Reserve Late Harvest</td>\n      <td>87</td>\n      <td>13.0</td>\n      <td>Michigan</td>\n      <td>Lake Michigan Shore</td>\n      <td>NaN</td>\n      <td>Alexander Peartree</td>\n      <td>NaN</td>\n      <td>St. Julian 2013 Reserve Late Harvest Riesling ...</td>\n      <td>Riesling</td>\n      <td>St. Julian</td>\n    </tr>\n    <tr>\n      <th>4</th>\n      <td>US</td>\n      <td>Much like the regular bottling from 2012, this...</td>\n      <td>Vintner's Reserve Wild Child Block</td>\n      <td>87</td>\n      <td>65.0</td>\n      <td>Oregon</td>\n      <td>Willamette Valley</td>\n      <td>Willamette Valley</td>\n      <td>Paul Gregutt</td>\n      <td>@paulgwine</td>\n      <td>Sweet Cheeks 2012 Vintner's Reserve Wild Child...</td>\n      <td>Pinot Noir</td>\n      <td>Sweet Cheeks</td>\n    </tr>\n  </tbody>\n</table>\n</div>"
          },
          "metadata": {}
        }
      ]
    },
    {
      "metadata": {
        "_uuid": "ddf41baa215da4eac422b653716d028d86619f29",
        "_cell_guid": "27108510-72e4-4b96-9a9f-91ca467ae69e"
      },
      "cell_type": "markdown",
      "source": "**Exercise 1**: What is the median of the `points` column?"
    },
    {
      "metadata": {
        "_uuid": "b0cedffda6b609ce018b7bf58ad511307458dd6e",
        "_cell_guid": "57257af5-6a8d-4585-9708-d9293ef5fdd0",
        "trusted": true
      },
      "cell_type": "code",
      "source": "# Your code here\nq1=reviews.points.median()\nprint(q1)\ncheck_q1(q1)",
      "execution_count": 6,
      "outputs": [
        {
          "output_type": "stream",
          "text": "88.0\n",
          "name": "stdout"
        },
        {
          "output_type": "execute_result",
          "execution_count": 6,
          "data": {
            "text/plain": "True"
          },
          "metadata": {}
        }
      ]
    },
    {
      "metadata": {
        "_uuid": "f91395e1752525f0d8d73700407c95e7d8ad35af",
        "_cell_guid": "5d18dd56-6cb9-4a31-994c-19cfdc67c0d9"
      },
      "cell_type": "markdown",
      "source": "**Exercise 2**: What countries are represented in the dataset?"
    },
    {
      "metadata": {
        "_uuid": "19219235053287a1fb1ae3f9c15f112e8625f14e",
        "_cell_guid": "2219317d-6627-4082-930d-ab1962b444e4",
        "trusted": true
      },
      "cell_type": "code",
      "source": "# Your code here\nq2=reviews.country.unique()\nprint(q2)\ncheck_q2(q2)",
      "execution_count": 9,
      "outputs": [
        {
          "output_type": "stream",
          "text": "['Italy' 'Portugal' 'US' 'Spain' 'France' 'Germany' 'Argentina' 'Chile'\n 'Australia' 'Austria' 'South Africa' 'New Zealand' 'Israel' 'Hungary'\n 'Greece' 'Romania' 'Mexico' 'Canada' nan 'Turkey' 'Czech Republic'\n 'Slovenia' 'Luxembourg' 'Croatia' 'Georgia' 'Uruguay' 'England' 'Lebanon'\n 'Serbia' 'Brazil' 'Moldova' 'Morocco' 'Peru' 'India' 'Bulgaria' 'Cyprus'\n 'Armenia' 'Switzerland' 'Bosnia and Herzegovina' 'Ukraine' 'Slovakia'\n 'Macedonia' 'China' 'Egypt']\n",
          "name": "stdout"
        },
        {
          "output_type": "execute_result",
          "execution_count": 9,
          "data": {
            "text/plain": "True"
          },
          "metadata": {}
        }
      ]
    },
    {
      "metadata": {
        "_uuid": "0b788fafed337639a804c96afab89b92fb8ec56e",
        "_cell_guid": "505f59af-ab2a-4648-81b1-cb5ae2c1ae74"
      },
      "cell_type": "markdown",
      "source": "**Exercise 3**: What countries appear in the dataset most often?"
    },
    {
      "metadata": {
        "_uuid": "3d485ec9b3177ec9b70ebeac7914f51500faa878",
        "_cell_guid": "89283723-297f-4850-a179-6295a6615683",
        "trusted": true
      },
      "cell_type": "code",
      "source": "#Your code here\nq3=reviews.country.value_counts()\nprint(q3)\ncheck_q3(q3)",
      "execution_count": 14,
      "outputs": [
        {
          "output_type": "stream",
          "text": "US        54504\nFrance    22093\n          ...  \nChina         1\nEgypt         1\nName: country, Length: 43, dtype: int64\n",
          "name": "stdout"
        },
        {
          "output_type": "execute_result",
          "execution_count": 14,
          "data": {
            "text/plain": "True"
          },
          "metadata": {}
        }
      ]
    },
    {
      "metadata": {
        "_uuid": "a885a5e54b1fe2955098a10637eac3af9118f8b9",
        "_cell_guid": "ce551e25-c3cc-4db4-8a12-ff0aaff0df37"
      },
      "cell_type": "markdown",
      "source": "**Exercise 4**: Remap the `price` column by subtracting the median price. Use the `Series.map` method."
    },
    {
      "metadata": {
        "_uuid": "db1648614ffab480292ec81009339267d9c5d42b",
        "_cell_guid": "c334f6f6-76b3-42c0-8716-43d9319dac46",
        "trusted": true
      },
      "cell_type": "code",
      "source": "# Your code here\ndf4=reviews.price-reviews.price.median()\nprint(df4)\ncheck_q4(df4)",
      "execution_count": 20,
      "outputs": [
        {
          "output_type": "stream",
          "text": "0          NaN\n1        -10.0\n          ... \n129969     7.0\n129970    -4.0\nName: price, Length: 129971, dtype: float64\n",
          "name": "stdout"
        },
        {
          "output_type": "execute_result",
          "execution_count": 20,
          "data": {
            "text/plain": "True"
          },
          "metadata": {}
        }
      ]
    },
    {
      "metadata": {
        "_uuid": "4c7dccfc6e6dcc09f97c38d29e016f84c6607062",
        "_cell_guid": "2f1a49c1-87a2-4e0e-8f90-3d0770c6935a"
      },
      "cell_type": "markdown",
      "source": "**Exercise 5**: I\"m an economical wine buyer. Which wine in is the \"best bargain\", e.g., which wine has the highest points-to-price ratio in the dataset?\n\nHint: use a map and the [`argmax` function](http://pandas.pydata.org/pandas-docs/version/0.19.2/generated/pandas.Series.argmax.html)."
    },
    {
      "metadata": {
        "_uuid": "a64044cabdda4291bec09c7ded3de3c62f9df8b7",
        "_cell_guid": "7d8cd2ad-c123-41b9-a6f4-9a69d95d836b",
        "trusted": true
      },
      "cell_type": "code",
      "source": "# Your code here\ndf5=reviews.copy()\ndf5.points=reviews.points/reviews.price\nans=df5.loc[df5.points.notnull(),['points','title']]\nans=ans.loc[ans.points.argmax()].title\nprint(ans)\ncheck_q6(ans)",
      "execution_count": 32,
      "outputs": [
        {
          "output_type": "stream",
          "text": "Bandit NV Merlot (California)\n",
          "name": "stdout"
        },
        {
          "output_type": "stream",
          "text": "/opt/conda/lib/python3.6/site-packages/ipykernel_launcher.py:5: FutureWarning: 'argmax' is deprecated, use 'idxmax' instead. The behavior of 'argmax'\nwill be corrected to return the positional maximum in the future.\nUse 'series.values.argmax' to get the position of the maximum now.\n  \"\"\"\n",
          "name": "stderr"
        },
        {
          "output_type": "execute_result",
          "execution_count": 32,
          "data": {
            "text/plain": "True"
          },
          "metadata": {}
        }
      ]
    },
    {
      "metadata": {
        "_uuid": "161b8f55577ad163e0f4406536f31f4a4847e706",
        "_cell_guid": "433eaff6-4e2b-4304-8694-e70a11bf05df"
      },
      "cell_type": "markdown",
      "source": "Now it's time for some visual exercises. In the questions that follow, generate the data that we will need to have in order to produce the plots that follow. These exercises will use skills from this workbook as well as from previous ones. They look a lot like questions you will actually be asking when working with your own data!"
    },
    {
      "metadata": {
        "_uuid": "fa295d216882dadfbe127ad369efb67f521e47c6",
        "_cell_guid": "94e7f19d-ccf9-45a8-b2bf-432d1f9b7d90"
      },
      "cell_type": "markdown",
      "source": "<!--\n**Exercise 6**: Sometimes the `province` and `region_1` provided in the dataset is the same value. Create a `Series` whose values counts how many times this occurs (`True`) and doesn't occur (`False`).\n-->"
    },
    {
      "metadata": {
        "_uuid": "cb263542035a146fe49efe78d7e1bb18ae874b22",
        "_cell_guid": "ea01da04-cd01-45bf-9592-6dab2d6f991c"
      },
      "cell_type": "markdown",
      "source": "**Exercise 6**: Is a wine more likely to be \"tropical\" or \"fruity\"? Create a `Series` counting how many times each of these two words appears in the `description` column in the dataset.\n\nHint: use a map to check each description for the string `tropical`, then count up the number of times this is `True`. Repeat this for `fruity`. Create a `Series` combining the two values at the end."
    },
    {
      "metadata": {
        "_uuid": "0dc4c1ea5cc2646e7cebcf905a00fce71d7740e9",
        "_cell_guid": "a033c426-1e02-4462-8d5a-9924a2773758",
        "trusted": true
      },
      "cell_type": "code",
      "source": "# Your code here\nres = reviews.copy()\ntropical_count = res.description.map(lambda x: True if \"tropical\" in x else False)\ntropical_count.name = \"Tropical\"\ntr = tropical_count.value_counts()\nprint(tr)\nprint(\"-------------------------\")\nfruity_count = res.description.map(lambda x: True if \"fruity\" in x else False)\nfruity_count.name = \"Fruity\"\nfr = fruity_count.value_counts()\nprint(fr)\nprint(\"-------------------------\")\nres = pd.Series([tr[1],fr[1]], index=[\"tropical\",\"fruity\"])\nprint(res)\nprint(check_q7(res)) ",
      "execution_count": 33,
      "outputs": [
        {
          "output_type": "stream",
          "text": "False    126364\nTrue       3607\nName: Tropical, dtype: int64\n-------------------------\nFalse    120881\nTrue       9090\nName: Fruity, dtype: int64\n-------------------------\ntropical    3607\nfruity      9090\ndtype: int64\nAxesSubplot(0.125,0.125;0.775x0.755)\n",
          "name": "stdout"
        },
        {
          "output_type": "display_data",
          "data": {
            "text/plain": "<Figure size 432x288 with 1 Axes>",
            "image/png": "[encoded data removed]"
          },
          "metadata": {}
        }
      ]
    },
    {
      "metadata": {
        "_uuid": "20cf342b102dee91b36aecfa5d213fb9a3fee8b9",
        "_cell_guid": "e64c1c0d-dd13-4945-a74b-4b64f2e65186"
      },
      "cell_type": "markdown",
      "source": "**Exercise 7**: What combination of countries and varieties are most common?\n\nCreate a `Series` whose index consists of strings of the form `\"<Country> - <Wine Variety>\"`. For example, a pinot noir produced in the US should map to `\"US - Pinot Noir\"`. The values should be counts of how many times the given wine appears in the dataset. Drop any reviews with incomplete `country` or `variety` data.\n\nHint: you can do this in three steps. First, generate a `DataFrame` whose `country` and `variety` columns are non-null. Then use a map to create a series whose entries are a `str` concatenation of those two columns. Finally, generate a `Series` counting how many times each label appears in the dataset."
    },
    {
      "metadata": {
        "_uuid": "5301cd803c94500d641fad28c8617d1f7b4b35d1",
        "_cell_guid": "a8c2749e-4996-41bf-9031-31b9c3bf2cc2",
        "trusted": true
      },
      "cell_type": "code",
      "source": "# Your code here\nq7=reviews.loc[(reviews.country.notnull())&(reviews.variety.notnull())]\ndef add_new_col(series):\n    series.country=series.country+' - '+series.variety\n    return series\nq7=q7.apply(add_new_col,axis=1)\nanswer=q7.country.value_counts()\nprint(answer)\nprint(check_q8(answer))",
      "execution_count": 34,
      "outputs": [
        {
          "output_type": "stream",
          "text": "US - Pinot Noir                 9885\nUS - Cabernet Sauvignon         7315\n                                ... \nCzech Republic - Frankovka         1\nFrance - Muscat d'Alexandrie       1\nName: country, Length: 1612, dtype: int64\nAxesSubplot(0.125,0.125;0.775x0.755)\n",
          "name": "stdout"
        },
        {
          "output_type": "display_data",
          "data": {
            "text/plain": "<Figure size 432x288 with 1 Axes>",
            "image/png": "[encoded data removed]"
          },
          "metadata": {}
        }
      ]
    },
    {
      "metadata": {
        "_uuid": "a38c20f7ad13253cd75df2a97e0a0d2e182b22df",
        "_cell_guid": "7484fe30-6db2-4a0a-8b1f-67db1f52012b"
      },
      "cell_type": "markdown",
      "source": "# Keep Going\n**[Continue to grouping and sorting](https://www.kaggle.com/kernels/fork/598715).**"
    }
  ],
  "metadata": {
    "language_info": {
      "name": "python",
      "version": "3.6.6",
      "mimetype": "text/x-python",
      "codemirror_mode": {
        "name": "ipython",
        "version": 3
      },
      "pygments_lexer": "ipython3",
      "nbconvert_exporter": "python",
      "file_extension": ".py"
    },
    "kernelspec": {
      "display_name": "Python 3",
      "language": "python",
      "name": "python3"
    }
  },
  "nbformat": 4,
  "nbformat_minor": 1
}