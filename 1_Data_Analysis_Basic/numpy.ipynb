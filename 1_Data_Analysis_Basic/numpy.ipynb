{
 "cells": [
  {
   "cell_type": "code",
   "execution_count": 2,
   "metadata": {},
   "outputs": [
    {
     "data": {
      "text/plain": [
       "'1.12.1'"
      ]
     },
     "execution_count": 2,
     "metadata": {},
     "output_type": "execute_result"
    }
   ],
   "source": [
    "import numpy as np\n",
    "np.__version__"
   ]
  },
  {
   "cell_type": "code",
   "execution_count": 7,
   "metadata": {},
   "outputs": [
    {
     "data": {
      "text/plain": [
       "array([0, 0, 0, 0, 0, 0, 0, 0, 0, 0])"
      ]
     },
     "execution_count": 7,
     "metadata": {},
     "output_type": "execute_result"
    }
   ],
   "source": [
    "#0으로 채운 길이 10의 정수 배열 만들기\n",
    "np.zeros(10,dtype=int)"
   ]
  },
  {
   "cell_type": "code",
   "execution_count": 8,
   "metadata": {},
   "outputs": [
    {
     "data": {
      "text/plain": [
       "array([[ 1.,  1.,  1.,  1.,  1.],\n",
       "       [ 1.,  1.,  1.,  1.,  1.],\n",
       "       [ 1.,  1.,  1.,  1.,  1.]])"
      ]
     },
     "execution_count": 8,
     "metadata": {},
     "output_type": "execute_result"
    }
   ],
   "source": [
    "#1로 채운 3x5 부동 소수점 배열 만들기\n",
    "np.ones((3,5),dtype=float)"
   ]
  },
  {
   "cell_type": "code",
   "execution_count": 9,
   "metadata": {},
   "outputs": [
    {
     "data": {
      "text/plain": [
       "array([[ 3.14,  3.14,  3.14,  3.14,  3.14],\n",
       "       [ 3.14,  3.14,  3.14,  3.14,  3.14],\n",
       "       [ 3.14,  3.14,  3.14,  3.14,  3.14]])"
      ]
     },
     "execution_count": 9,
     "metadata": {},
     "output_type": "execute_result"
    }
   ],
   "source": [
    "#3.14로 채운 3x5 배열 만들기\n",
    "np.full((3,5),3.14)"
   ]
  },
  {
   "cell_type": "code",
   "execution_count": 10,
   "metadata": {},
   "outputs": [
    {
     "data": {
      "text/plain": [
       "array([ 0,  2,  4,  6,  8, 10, 12, 14, 16, 18])"
      ]
     },
     "execution_count": 10,
     "metadata": {},
     "output_type": "execute_result"
    }
   ],
   "source": [
    "#선형 수열로 채운 배열 만들기\n",
    "#0에서 시작해 2씩 더해 20까지 채움\n",
    "#(내장 함수인 range()와 비슷함)\n",
    "np.arange(0,20,2)"
   ]
  },
  {
   "cell_type": "code",
   "execution_count": 11,
   "metadata": {},
   "outputs": [
    {
     "data": {
      "text/plain": [
       "array([ 0.  ,  0.25,  0.5 ,  0.75,  1.  ])"
      ]
     },
     "execution_count": 11,
     "metadata": {},
     "output_type": "execute_result"
    }
   ],
   "source": [
    "#0과 1 사이에 일정한 간격을 가진 다섯 개의 값으로 채운 배열 만들기\n",
    "np.linspace(0,1,5)"
   ]
  },
  {
   "cell_type": "code",
   "execution_count": 12,
   "metadata": {},
   "outputs": [
    {
     "data": {
      "text/plain": [
       "array([[  1.58237654e-01,   5.28038216e-01,   1.60496982e-01],\n",
       "       [  8.09791090e-01,   7.09099679e-02,   2.34018432e-04],\n",
       "       [  1.72930420e-01,   6.06743277e-01,   1.40207712e-01]])"
      ]
     },
     "execution_count": 12,
     "metadata": {},
     "output_type": "execute_result"
    }
   ],
   "source": [
    "#균등하게 분포된 3x3 배열 만들기\n",
    "np.random.random((3,3))"
   ]
  },
  {
   "cell_type": "code",
   "execution_count": 13,
   "metadata": {},
   "outputs": [
    {
     "data": {
      "text/plain": [
       "array([[-0.1660187 ,  0.03445798,  0.30353739],\n",
       "       [-1.37400658, -1.69282615, -0.0912826 ],\n",
       "       [-1.50184098,  0.49091022,  0.59847296]])"
      ]
     },
     "execution_count": 13,
     "metadata": {},
     "output_type": "execute_result"
    }
   ],
   "source": [
    "#정규 분포의 난수로 채운 3x3 배열 만들기\n",
    "np.random.normal(0,1,(3,3))"
   ]
  },
  {
   "cell_type": "code",
   "execution_count": 14,
   "metadata": {},
   "outputs": [
    {
     "data": {
      "text/plain": [
       "array([[6, 0, 5],\n",
       "       [8, 0, 3],\n",
       "       [3, 7, 6]])"
      ]
     },
     "execution_count": 14,
     "metadata": {},
     "output_type": "execute_result"
    }
   ],
   "source": [
    "#[0,10] 구간의 임의의 정수로 채운 3x3\n",
    "np.random.randint(0,10,(3,3))"
   ]
  },
  {
   "cell_type": "code",
   "execution_count": 15,
   "metadata": {},
   "outputs": [
    {
     "data": {
      "text/plain": [
       "array([[ 1.,  0.,  0.],\n",
       "       [ 0.,  1.,  0.],\n",
       "       [ 0.,  0.,  1.]])"
      ]
     },
     "execution_count": 15,
     "metadata": {},
     "output_type": "execute_result"
    }
   ],
   "source": [
    "#3x3 단위 행렬 만들기\n",
    "np.eye(3)"
   ]
  },
  {
   "cell_type": "code",
   "execution_count": 16,
   "metadata": {
    "collapsed": true
   },
   "outputs": [],
   "source": [
    "np.random.seed(0) # 재현 가능성을 위한 시드 값\n",
    "x1=np.random.randint(10,size=6)#1차원 배열\n",
    "x2=np.random.randint(10,size=(3,4))#2차원 배열\n",
    "x3=np.random.randint(10,size=(3,4,5))#3차원 배열"
   ]
  },
  {
   "cell_type": "code",
   "execution_count": 18,
   "metadata": {},
   "outputs": [
    {
     "name": "stdout",
     "output_type": "stream",
     "text": [
      "x3 ndim: 3\n",
      "x3 shape: (3, 4, 5)\n",
      "x3 size: 60\n"
     ]
    }
   ],
   "source": [
    "print(\"x3 ndim:\",x3.ndim)\n",
    "print(\"x3 shape:\",x3.shape)\n",
    "print(\"x3 size:\",x3.size)\n",
    "#차원의 개수(ndim),각 차원의 크기(shape), 전체 배열 크기(size)"
   ]
  },
  {
   "cell_type": "code",
   "execution_count": 20,
   "metadata": {},
   "outputs": [
    {
     "name": "stdout",
     "output_type": "stream",
     "text": [
      "itemsize: 4 bytes\n",
      "nbytes: 240 bytes\n"
     ]
    }
   ],
   "source": [
    "print(\"itemsize:\",x3.itemsize,\"bytes\")\n",
    "print(\"nbytes:\",x3.nbytes,\"bytes\")\n",
    "#itemsize: 각 배열 요소의 크기를 바이트 단위로 보여줌\n",
    "#nbytes: 배열의 전체 크기를 바이트 단위로 보여줌\n",
    "#일반적으로 nbytes는 itemsize를 size로 곱한 값과 같다."
   ]
  },
  {
   "cell_type": "code",
   "execution_count": 22,
   "metadata": {},
   "outputs": [
    {
     "data": {
      "text/plain": [
       "array([[3, 5, 2],\n",
       "       [7, 6, 8]])"
      ]
     },
     "execution_count": 22,
     "metadata": {},
     "output_type": "execute_result"
    }
   ],
   "source": [
    "\"\"\"1차원 배열의 경우에는 일반적인 리스트와 인덱싱과 슬라이싱을 하는 것과 같다.\n",
    "다차원 배열의 경우에는 다음과 같다.\"\"\"\n",
    "x2[:2,:3]#두 개의 행, 세 개의 열"
   ]
  },
  {
   "cell_type": "code",
   "execution_count": 23,
   "metadata": {},
   "outputs": [
    {
     "data": {
      "text/plain": [
       "array([[3, 2],\n",
       "       [7, 8],\n",
       "       [1, 7]])"
      ]
     },
     "execution_count": 23,
     "metadata": {},
     "output_type": "execute_result"
    }
   ],
   "source": [
    "x2[:3,::2]# 모든 행, 한 열 걸러 하나씩"
   ]
  },
  {
   "cell_type": "code",
   "execution_count": 25,
   "metadata": {},
   "outputs": [
    {
     "name": "stdout",
     "output_type": "stream",
     "text": [
      "[3 7 1]\n",
      "[3 5 2 4]\n"
     ]
    }
   ],
   "source": [
    "print(x2[:,0])#x2의 첫 번째 열\n",
    "print(x2[0,:])#x2의 첫 번째 행"
   ]
  },
  {
   "cell_type": "code",
   "execution_count": 26,
   "metadata": {},
   "outputs": [
    {
     "name": "stdout",
     "output_type": "stream",
     "text": [
      "[[3 5]\n",
      " [7 6]]\n"
     ]
    }
   ],
   "source": [
    "\"\"\"배열 슬라이스는 배열 데이터의 사본이 아니라 뷰를 반환한다.\"\"\"\n",
    "x2_sub=x2[:2,:2]\n",
    "print(x2_sub)"
   ]
  },
  {
   "cell_type": "code",
   "execution_count": 28,
   "metadata": {},
   "outputs": [
    {
     "name": "stdout",
     "output_type": "stream",
     "text": [
      "[[99  5]\n",
      " [ 7  6]]\n",
      "[[99  5  2  4]\n",
      " [ 7  6  8  8]\n",
      " [ 1  6  7  7]]\n"
     ]
    },
    {
     "data": {
      "text/plain": [
       "'따라서 큰 데이터세트를 다룰 때 기반 데이터 버퍼를 복사하지 않아도 데이터의 일부에만 접근하고 처리하는 것이 가능하다.'"
      ]
     },
     "execution_count": 28,
     "metadata": {},
     "output_type": "execute_result"
    }
   ],
   "source": [
    "x2_sub[0,0]=99\n",
    "print(x2_sub)\n",
    "print(x2)\n",
    "\"\"\"따라서 큰 데이터세트를 다룰 때 기반 데이터 버퍼를 복사하지 않아도 데이터의 일부에만 접근하고 처리하는 것이 가능하다.\"\"\""
   ]
  },
  {
   "cell_type": "code",
   "execution_count": 29,
   "metadata": {},
   "outputs": [
    {
     "name": "stdout",
     "output_type": "stream",
     "text": [
      "[[99  5]\n",
      " [ 7  6]]\n"
     ]
    }
   ],
   "source": [
    "#만약 이를 바꾸지 않고 유지하고자 한다면 다음과 같이 하면 변하지 않는다.\n",
    "x2_sub_copy=x2[:2,:2].copy()"
   ]
  },
  {
   "cell_type": "code",
   "execution_count": 31,
   "metadata": {},
   "outputs": [
    {
     "name": "stdout",
     "output_type": "stream",
     "text": [
      "[[1 2 3]\n",
      " [4 5 6]\n",
      " [7 8 9]]\n"
     ]
    }
   ],
   "source": [
    "#1차원 배열을 2차원 배열로 재구조화 할 수 있다.\n",
    "#단 크기가 맞아야 한다.\n",
    "grid=np.arange(1,10).reshape((3,3))\n",
    "print(grid)"
   ]
  },
  {
   "cell_type": "code",
   "execution_count": 35,
   "metadata": {},
   "outputs": [
    {
     "data": {
      "text/plain": [
       "array([[1],\n",
       "       [2],\n",
       "       [3]])"
      ]
     },
     "execution_count": 35,
     "metadata": {},
     "output_type": "execute_result"
    }
   ],
   "source": [
    "#newaxis를 사용해서 사용 가능하다.\n",
    "x=np.array([1,2,3])\n",
    "x[np.newaxis,:]#행 벡터\n",
    "x[:,np.newaxis]#열 벡터"
   ]
  },
  {
   "cell_type": "code",
   "execution_count": 36,
   "metadata": {},
   "outputs": [
    {
     "data": {
      "text/plain": [
       "array([1, 2, 3, 3, 2, 1])"
      ]
     },
     "execution_count": 36,
     "metadata": {},
     "output_type": "execute_result"
    }
   ],
   "source": [
    "#배열 연결\n",
    "x=np.array([1,2,3])\n",
    "y=np.array([3,2,1])\n",
    "np.concatenate([x,y])"
   ]
  },
  {
   "cell_type": "code",
   "execution_count": 37,
   "metadata": {},
   "outputs": [
    {
     "data": {
      "text/plain": [
       "array([ 1,  2,  3,  3,  2,  1, 99, 99, 99])"
      ]
     },
     "execution_count": 37,
     "metadata": {},
     "output_type": "execute_result"
    }
   ],
   "source": [
    "#한 번에 두 개 이상의 배열을 연결할 수도 있다.\n",
    "z=[99,99,99]\n",
    "np.concatenate([x,y,z])\n",
    "#또한 2차원 배열에서도 사용 가능하다."
   ]
  },
  {
   "cell_type": "code",
   "execution_count": 38,
   "metadata": {
    "collapsed": true
   },
   "outputs": [],
   "source": [
    "#혼합된 차원의 배열로 작업할 때에는 np.vstack(수직 스택), np.hstack(수평 스택)을 사용하는 것이 더 편하다."
   ]
  },
  {
   "cell_type": "code",
   "execution_count": 39,
   "metadata": {},
   "outputs": [
    {
     "name": "stdout",
     "output_type": "stream",
     "text": [
      "[1 2 3] [99 99] [3 2 1]\n"
     ]
    }
   ],
   "source": [
    "#배열 분할하기\n",
    "x=[1,2,3,99,99,3,2,1]\n",
    "x1,x2,x3=np.split(x,[3,5])\n",
    "print(x1,x2,x3)"
   ]
  },
  {
   "cell_type": "code",
   "execution_count": 41,
   "metadata": {},
   "outputs": [
    {
     "name": "stdout",
     "output_type": "stream",
     "text": [
      "[[0 1 2 3]\n",
      " [4 5 6 7]]\n",
      "[[ 8  9 10 11]\n",
      " [12 13 14 15]]\n",
      "[[ 0  1]\n",
      " [ 4  5]\n",
      " [ 8  9]\n",
      " [12 13]]\n",
      "[[ 2  3]\n",
      " [ 6  7]\n",
      " [10 11]\n",
      " [14 15]]\n"
     ]
    }
   ],
   "source": [
    "grid=np.arange(16).reshape((4,4))\n",
    "upper,lower=np.vsplit(grid,[2])\n",
    "print(upper)\n",
    "print(lower)\n",
    "left,right=np.hsplit(grid,[2])\n",
    "print(left)\n",
    "print(right)"
   ]
  },
  {
   "cell_type": "code",
   "execution_count": 42,
   "metadata": {},
   "outputs": [
    {
     "data": {
      "text/plain": [
       "array([ 0.16666667,  1.        ,  0.25      ,  0.25      ,  0.125     ])"
      ]
     },
     "execution_count": 42,
     "metadata": {},
     "output_type": "execute_result"
    }
   ],
   "source": [
    "#각각의 역수를 구하는 함수는 다음과 같이 구성될 수 있다. 하지만 이는 시간이 많이 걸리는 작업이다.\n",
    "np.random.seed(0)\n",
    "def compute_reciprocals(values):\n",
    "    output= np.empty(len(values))\n",
    "    for i in range(len(values)):\n",
    "        output[i] = 1.0/values[i]\n",
    "    return output\n",
    "\n",
    "values=np.random.randint(1,10,size=5)\n",
    "compute_reciprocals(values)"
   ]
  },
  {
   "cell_type": "code",
   "execution_count": 44,
   "metadata": {},
   "outputs": [
    {
     "name": "stdout",
     "output_type": "stream",
     "text": [
      "[ 0.16666667  1.          0.25        0.25        0.125     ]\n",
      "[ 0.16666667  1.          0.25        0.25        0.125     ]\n"
     ]
    }
   ],
   "source": [
    "#하지만 이와 같이 벡터화 연산을 해보면 더 빠른 시간에 연산을 할 수 있음을 알 수 있다.\n",
    "print(compute_reciprocals(values))\n",
    "print(1.0/values)"
   ]
  },
  {
   "cell_type": "code",
   "execution_count": 45,
   "metadata": {},
   "outputs": [
    {
     "data": {
      "text/plain": [
       "array([ 0.        ,  0.5       ,  0.66666667,  0.75      ,  0.8       ])"
      ]
     },
     "execution_count": 45,
     "metadata": {},
     "output_type": "execute_result"
    }
   ],
   "source": [
    "np.arange(5)/np.arange(1,6)\n",
    "#배열간의 연산또한 가능하다."
   ]
  },
  {
   "cell_type": "code",
   "execution_count": 46,
   "metadata": {},
   "outputs": [
    {
     "data": {
      "text/plain": [
       "array([[  1,   2,   4],\n",
       "       [  8,  16,  32],\n",
       "       [ 64, 128, 256]], dtype=int32)"
      ]
     },
     "execution_count": 46,
     "metadata": {},
     "output_type": "execute_result"
    }
   ],
   "source": [
    "#다차원 배열에서도 가능하다.\n",
    "x=np.arange(9).reshape((3,3))\n",
    "2**x"
   ]
  },
  {
   "cell_type": "code",
   "execution_count": 48,
   "metadata": {},
   "outputs": [
    {
     "name": "stdout",
     "output_type": "stream",
     "text": [
      "x    = [0 1 2 3]\n",
      "x+5  = [5 6 7 8]\n",
      "x-5  = [-5 -4 -3 -2]\n",
      "x*2  = [0 2 4 6]\n",
      "x/2  = [ 0.   0.5  1.   1.5]\n",
      "x//2 = [0 0 1 1]\n"
     ]
    }
   ],
   "source": [
    "#numpy 유니버셜 함수\n",
    "#기본 산술 연산자를 지원하기 때문에 모두 사용 가능하다.\n",
    "x=np.arange(4)\n",
    "print(\"x    =\",x)\n",
    "print(\"x+5  =\",x+5)#np.add(x,5)\n",
    "print(\"x-5  =\",x-5)#np.subtract(x,5)\n",
    "print(\"x*2  =\",x*2)#np.multiply(x,2)\n",
    "print(\"x/2  =\",x/2)#np.divide(x,2)\n",
    "print(\"x//2 =\",x//2)#np.floor_divide(x,2)"
   ]
  },
  {
   "cell_type": "code",
   "execution_count": 49,
   "metadata": {},
   "outputs": [
    {
     "name": "stdout",
     "output_type": "stream",
     "text": [
      "-x   = [ 0 -1 -2 -3]\n",
      "x**2 = [0 1 4 9]\n",
      "x%2  = [0 1 0 1]\n"
     ]
    }
   ],
   "source": [
    "#또한 음수를 만드는 단항 ufunc와 지수연산자 ** , 나머지 연산자 %가 있다.\n",
    "print(\"-x   =\",-x)#np.negative(x)\n",
    "print(\"x**2 =\",x**2)#np.power(x,2)\n",
    "print(\"x%2  =\",x%2)#np.mod(x,2)\n",
    "#이 연산들은 원하는 만큼 사용 가능하며 표준 연산 순서를 따른다."
   ]
  },
  {
   "cell_type": "code",
   "execution_count": 51,
   "metadata": {},
   "outputs": [
    {
     "data": {
      "text/plain": [
       "array([2, 1, 0, 1, 2])"
      ]
     },
     "execution_count": 51,
     "metadata": {},
     "output_type": "execute_result"
    }
   ],
   "source": [
    "#절대값 abs(x) numpy ufunc에서는 np.absolute 혹은 np.abs로 사용하며, 복소수에도 사용가능하다,(이 경우에는 크기를 반환)\n",
    "x=np.array([-2,-1,0,1,2])\n",
    "abs(x)"
   ]
  },
  {
   "cell_type": "code",
   "execution_count": 52,
   "metadata": {
    "collapsed": true
   },
   "outputs": [],
   "source": [
    "#삼각함수\n",
    "theta = np.linspace?"
   ]
  },
  {
   "cell_type": "code",
   "execution_count": 55,
   "metadata": {},
   "outputs": [
    {
     "name": "stdout",
     "output_type": "stream",
     "text": [
      "[ 0.          1.57079633  3.14159265]\n"
     ]
    }
   ],
   "source": [
    "theta = np.linspace(0,np.pi,3)#각도 배열을 정의하자\n",
    "print(theta)"
   ]
  },
  {
   "cell_type": "code",
   "execution_count": 58,
   "metadata": {},
   "outputs": [
    {
     "name": "stdout",
     "output_type": "stream",
     "text": [
      "theta      = [ 0.          1.57079633  3.14159265]\n",
      "sin(theta) = [  0.00000000e+00   1.00000000e+00   1.22464680e-16]\n",
      "cos(theta) = [  1.00000000e+00   6.12323400e-17  -1.00000000e+00]\n",
      "tan(theta) = [  0.00000000e+00   1.63312394e+16  -1.22464680e-16]\n"
     ]
    }
   ],
   "source": [
    "#역삼각함수 또한 사용할 수 있다. \n",
    "print(\"theta      =\",theta)\n",
    "print(\"sin(theta) =\",np.sin(theta))\n",
    "print(\"cos(theta) =\",np.cos(theta))\n",
    "print(\"tan(theta) =\",np.tan(theta))"
   ]
  },
  {
   "cell_type": "code",
   "execution_count": 59,
   "metadata": {},
   "outputs": [
    {
     "name": "stdout",
     "output_type": "stream",
     "text": [
      "x   = [1, 2, 3]\n",
      "e^x = [  2.71828183   7.3890561   20.08553692]\n",
      "2^x = [ 2.  4.  8.]\n",
      "3^x = [ 3  9 27]\n"
     ]
    }
   ],
   "source": [
    "#지수와 로그\n",
    "x=[1,2,3]\n",
    "print(\"x   =\",x)\n",
    "print(\"e^x =\",np.exp(x))\n",
    "print(\"2^x =\",np.exp2(x))\n",
    "print(\"3^x =\",np.power(3,x))"
   ]
  },
  {
   "cell_type": "code",
   "execution_count": 60,
   "metadata": {},
   "outputs": [
    {
     "name": "stdout",
     "output_type": "stream",
     "text": [
      "x       = [1, 2, 4, 10]\n",
      "ln(x)   = [ 0.          0.69314718  1.38629436  2.30258509]\n",
      "log2(x) = [ 0.          1.          2.          3.32192809]\n",
      "log10(x)= [ 0.          0.30103     0.60205999  1.        ]\n"
     ]
    }
   ],
   "source": [
    "x=[1,2,4,10]\n",
    "print(\"x       =\",x)\n",
    "print(\"ln(x)   =\",np.log(x))\n",
    "print(\"log2(x) =\",np.log2(x))\n",
    "print(\"log10(x)=\",np.log10(x))\n",
    "#만약 작은 값을 얻고자 한다면 np.expm1() np.log1p를 사용하면 더 정확한 값을 얻을 수 있다."
   ]
  },
  {
   "cell_type": "code",
   "execution_count": 63,
   "metadata": {
    "collapsed": true
   },
   "outputs": [],
   "source": [
    "from scipy import special\n",
    "#전문적인 수학 함수들을 사용 할 수 있다."
   ]
  },
  {
   "cell_type": "code",
   "execution_count": 3,
   "metadata": {},
   "outputs": [
    {
     "name": "stdout",
     "output_type": "stream",
     "text": [
      "[  0.  10.  20.  30.  40.]\n"
     ]
    }
   ],
   "source": [
    "import numpy as np\n",
    "#고급 기능(출력 지정)\n",
    "x= np.arange(5)\n",
    "y= np.empty(5)\n",
    "np.multiply(x,10,out=y)#out=y[::2] 와 같이 배열 뷰와 함께 사용 가능\n",
    "print(y)"
   ]
  },
  {
   "cell_type": "code",
   "execution_count": 4,
   "metadata": {},
   "outputs": [
    {
     "data": {
      "text/plain": [
       "15"
      ]
     },
     "execution_count": 4,
     "metadata": {},
     "output_type": "execute_result"
    }
   ],
   "source": [
    "#집계 reduce는 결과가 하나만 남을 때까지 해당 연산을 배열 요소에 반복해서 적용한다.\n",
    "x=np.arange(1,6)\n",
    "np.add.reduce(x)"
   ]
  },
  {
   "cell_type": "code",
   "execution_count": 6,
   "metadata": {},
   "outputs": [
    {
     "data": {
      "text/plain": [
       "120"
      ]
     },
     "execution_count": 6,
     "metadata": {},
     "output_type": "execute_result"
    }
   ],
   "source": [
    "x=np.arange(1,6)\n",
    "np.multiply.reduce(x)\n",
    "#np.sum np.prod로 대체 가능"
   ]
  },
  {
   "cell_type": "code",
   "execution_count": 7,
   "metadata": {},
   "outputs": [
    {
     "data": {
      "text/plain": [
       "array([ 1,  3,  6, 10, 15], dtype=int32)"
      ]
     },
     "execution_count": 7,
     "metadata": {},
     "output_type": "execute_result"
    }
   ],
   "source": [
    "#대신 중간의 값을 모두 저장 하고 싶다면 accumulate를 사용하면 된다.\n",
    "np.add.accumulate(x)\n",
    "#np.cumsum np.sumprod 로 대체 가능"
   ]
  },
  {
   "cell_type": "code",
   "execution_count": 9,
   "metadata": {},
   "outputs": [
    {
     "data": {
      "text/plain": [
       "array([[ 1,  2,  3,  4,  5],\n",
       "       [ 2,  4,  6,  8, 10],\n",
       "       [ 3,  6,  9, 12, 15],\n",
       "       [ 4,  8, 12, 16, 20],\n",
       "       [ 5, 10, 15, 20, 25]])"
      ]
     },
     "execution_count": 9,
     "metadata": {},
     "output_type": "execute_result"
    }
   ],
   "source": [
    "#외적\n",
    "x=np.arange(1,6)\n",
    "np.multiply.outer(x,x)"
   ]
  },
  {
   "cell_type": "code",
   "execution_count": 10,
   "metadata": {},
   "outputs": [
    {
     "name": "stdout",
     "output_type": "stream",
     "text": [
      "[[ 0.38223783  0.10610349  0.70889846  0.76789046]\n",
      " [ 0.58829925  0.59781931  0.53675483  0.52991845]\n",
      " [ 0.7149841   0.14221105  0.4967245   0.36003999]]\n"
     ]
    },
    {
     "data": {
      "text/plain": [
       "array([ 0.38223783,  0.10610349,  0.4967245 ,  0.36003999])"
      ]
     },
     "execution_count": 10,
     "metadata": {},
     "output_type": "execute_result"
    }
   ],
   "source": [
    "##집계\n",
    "\"\"\"np.sum(), np.max(), np.min()을 사용할 때 일반 함수보다 더 빠르다\"\"\"\n",
    "\"\"\"집계 함수는 어느 축을 따라 집계할 것인지를 지정하는 추가적인 인수를 취한다.\"\"\"\n",
    "# axis는 축을 축소할 배열의 차원을 지정한다. 따라서 axis=0 은 행을 축소하고 axis=1은 열을 축소한다.\n",
    "M=np.random.random((3,4))\n",
    "print(M)\n",
    "M.min(axis=0)"
   ]
  },
  {
   "cell_type": "code",
   "execution_count": 11,
   "metadata": {
    "collapsed": true
   },
   "outputs": [],
   "source": [
    "#np.sum (합 계산) ,np.prod (곱 계산), np.mean (평균 계산) , np.std(표준편차), np.var(분산) , np.min(최소) , np.max(최대) ,\n",
    "#np.argmin(최소값 인덱스) , np.argmax(최댓값 인덱스) , np.median(중간값), np.percentile(순위 기반 백분위 수) , np.any(참이 있는가) ,np.all(모두 참인가)"
   ]
  },
  {
   "cell_type": "code",
   "execution_count": 17,
   "metadata": {},
   "outputs": [
    {
     "name": "stdout",
     "output_type": "stream",
     "text": [
      "[6 7 8]\n",
      "[6 7 8]\n"
     ]
    }
   ],
   "source": [
    "#배열 연산: 브로드캐스팅, 브로드캐스팅이란 단지 다른 크기의 배열에 이항 유니버설 함수를 적용하기 위한 규칙의 집합이다.\n",
    "\"\"\"규칙1: 두 배열의 차원 수가 다르면 더 작은 수의 차원을 가진 배열 형상의 앞쪽을 1로 채운다.\n",
    "   규칙2: 두 배열의 형상이 어떤 차원세서도 일치하지 않는다면 해당 차원의 형상이 1인 배열이 다른 형상과 일치하도록 늘어난다.\n",
    "   규칙3: 임의의 차원에서 크기가 일치하지 않고 1도 아니라면 오류가 발생한다.\"\"\"\n",
    "a=np.array([1,2,3])\n",
    "b=np.array([5,5,5])\n",
    "print(a+b)\n",
    "#여기서 브로드캐스팅을 사용하면 배열에 스칼라를 더 할 수 있다.\n",
    "print(a+5)"
   ]
  },
  {
   "cell_type": "code",
   "execution_count": 19,
   "metadata": {},
   "outputs": [
    {
     "data": {
      "text/plain": [
       "array([[ 2.,  3.,  4.],\n",
       "       [ 2.,  3.,  4.],\n",
       "       [ 2.,  3.,  4.]])"
      ]
     },
     "execution_count": 19,
     "metadata": {},
     "output_type": "execute_result"
    }
   ],
   "source": [
    "#더 높은 차원의 배열로 확장할 수 있다.\n",
    "M=np.ones((3,3))\n",
    "M+a"
   ]
  },
  {
   "cell_type": "code",
   "execution_count": 20,
   "metadata": {},
   "outputs": [
    {
     "name": "stdout",
     "output_type": "stream",
     "text": [
      "[0 1 2]\n",
      "[[0]\n",
      " [1]\n",
      " [2]]\n"
     ]
    },
    {
     "data": {
      "text/plain": [
       "array([[0, 1, 2],\n",
       "       [1, 2, 3],\n",
       "       [2, 3, 4]])"
      ]
     },
     "execution_count": 20,
     "metadata": {},
     "output_type": "execute_result"
    }
   ],
   "source": [
    "a=np.arange(3)\n",
    "b=np.arange(3)[:,np.newaxis]\n",
    "print(a)\n",
    "print(b)\n",
    "a+b"
   ]
  },
  {
   "cell_type": "code",
   "execution_count": 25,
   "metadata": {},
   "outputs": [
    {
     "name": "stdout",
     "output_type": "stream",
     "text": [
      "[[ 0.95193595  0.57245827  0.09292344]\n",
      " [ 0.4706133   0.27696563  0.59204893]\n",
      " [ 0.7659372   0.02812956  0.72100503]\n",
      " [ 0.396661    0.93122311  0.84733077]\n",
      " [ 0.61276846  0.37899954  0.20996752]\n",
      " [ 0.925409    0.78860624  0.76419289]\n",
      " [ 0.4427923   0.11418131  0.44354561]\n",
      " [ 0.22453089  0.41228414  0.43851448]\n",
      " [ 0.45980581  0.60553118  0.21248889]\n",
      " [ 0.47690934  0.17288556  0.32218362]]\n"
     ]
    },
    {
     "data": {
      "text/plain": [
       "array([ 0.57273632,  0.42812645,  0.46442012])"
      ]
     },
     "execution_count": 25,
     "metadata": {},
     "output_type": "execute_result"
    }
   ],
   "source": [
    "#배열을 중앙 정렬하기\n",
    "X=np.random.random((10,3))\n",
    "print(X)\n",
    "Xmean=X.mean(0)# 0이 행, 1이 열\n",
    "Xmean"
   ]
  },
  {
   "cell_type": "code",
   "execution_count": 26,
   "metadata": {},
   "outputs": [
    {
     "data": {
      "text/plain": [
       "array([  5.55111512e-17,  -5.55111512e-17,  -1.11022302e-17])"
      ]
     },
     "execution_count": 26,
     "metadata": {},
     "output_type": "execute_result"
    }
   ],
   "source": [
    "X_centered=X-Xmean\n",
    "X_centered.mean(0)"
   ]
  },
  {
   "cell_type": "code",
   "execution_count": 28,
   "metadata": {
    "collapsed": true
   },
   "outputs": [],
   "source": [
    "#2차원 함수 플로팅하기\n",
    "#x,y는 0에서 5까지 50단계로 나눈 배열\n",
    "x=np.linspace(0,5,50)\n",
    "y=np.linspace(0,5,50)[:,np.newaxis]\n",
    "z=np.sin(x)**10+np.cos(10+y*x)*np.cos(x)"
   ]
  },
  {
   "cell_type": "code",
   "execution_count": 29,
   "metadata": {
    "collapsed": true
   },
   "outputs": [],
   "source": [
    "%matplotlib inline\n",
    "import matplotlib.pyplot as plt"
   ]
  },
  {
   "cell_type": "code",
   "execution_count": 30,
   "metadata": {},
   "outputs": [
    {
     "data": {
      "image/png": "[encoded data removed]",
      "text/plain": [
       "<matplotlib.figure.Figure at 0x2207bfa75f8>"
      ]
     },
     "metadata": {},
     "output_type": "display_data"
    }
   ],
   "source": [
    "plt.imshow(z,origin='lower',extent=[0,5,0,5], cmap='viridis')\n",
    "plt.colorbar();"
   ]
  },
  {
   "cell_type": "code",
   "execution_count": 34,
   "metadata": {},
   "outputs": [
    {
     "data": {
      "text/plain": [
       "20"
      ]
     },
     "execution_count": 34,
     "metadata": {},
     "output_type": "execute_result"
    }
   ],
   "source": [
    "#boolean 연산자\n",
    "np.count_nonzero(x<3) #True의 갯수\n",
    "np.sum(x<2) #False는 0 True 는 1, 행이나 열을 따라 계산을 할 수 있어서 유용"
   ]
  },
  {
   "cell_type": "code",
   "execution_count": 1,
   "metadata": {
    "collapsed": true
   },
   "outputs": [],
   "source": [
    "import numpy as np"
   ]
  },
  {
   "cell_type": "code",
   "execution_count": 2,
   "metadata": {
    "collapsed": true
   },
   "outputs": [],
   "source": [
    "x=np.random.randint(1,10,(4,3))"
   ]
  },
  {
   "cell_type": "code",
   "execution_count": 3,
   "metadata": {},
   "outputs": [
    {
     "data": {
      "text/plain": [
       "array([[9, 7, 9],\n",
       "       [2, 2, 9],\n",
       "       [2, 3, 7],\n",
       "       [5, 6, 1]])"
      ]
     },
     "execution_count": 3,
     "metadata": {},
     "output_type": "execute_result"
    }
   ],
   "source": [
    "x"
   ]
  },
  {
   "cell_type": "code",
   "execution_count": 4,
   "metadata": {},
   "outputs": [
    {
     "data": {
      "text/plain": [
       "array([[False, False, False],\n",
       "       [ True,  True, False],\n",
       "       [ True,  True, False],\n",
       "       [False, False,  True]], dtype=bool)"
      ]
     },
     "execution_count": 4,
     "metadata": {},
     "output_type": "execute_result"
    }
   ],
   "source": [
    "# 이 조건에 맞는 부울 배열은 쉽게 얻을 수 있다.\n",
    "x<5"
   ]
  },
  {
   "cell_type": "code",
   "execution_count": 5,
   "metadata": {},
   "outputs": [
    {
     "data": {
      "text/plain": [
       "array([2, 2, 2, 3, 1])"
      ]
     },
     "execution_count": 5,
     "metadata": {},
     "output_type": "execute_result"
    }
   ],
   "source": [
    "#이제 배열에서 조건에 맞는 값들을 선택하려면 간단히 이 부울 배열을 인덱스로 사용하면 된다. 이를 마스킹연산이라 한다.\n",
    "x[x<5]"
   ]
  },
  {
   "cell_type": "code",
   "execution_count": 6,
   "metadata": {},
   "outputs": [
    {
     "ename": "NameError",
     "evalue": "name 'inches' is not defined",
     "output_type": "error",
     "traceback": [
      "\u001b[1;31m---------------------------------------------------------------------------\u001b[0m",
      "\u001b[1;31mNameError\u001b[0m                                 Traceback (most recent call last)",
      "\u001b[1;32m<ipython-input-6-dd0b12fd9885>\u001b[0m in \u001b[0;36m<module>\u001b[1;34m()\u001b[0m\n\u001b[0;32m      1\u001b[0m \u001b[1;31m#비가 온 모든 날에 대한 마스크 생성\u001b[0m\u001b[1;33m\u001b[0m\u001b[1;33m\u001b[0m\u001b[0m\n\u001b[1;32m----> 2\u001b[1;33m \u001b[0mrainy\u001b[0m \u001b[1;33m=\u001b[0m \u001b[1;33m(\u001b[0m\u001b[0minches\u001b[0m \u001b[1;33m>\u001b[0m \u001b[1;36m0\u001b[0m\u001b[1;33m)\u001b[0m\u001b[1;33m\u001b[0m\u001b[0m\n\u001b[0m\u001b[0;32m      3\u001b[0m \u001b[1;31m#여름에 해당하는 날에 대한 마스크 생성(6월 21일은 172번째 날임)\u001b[0m\u001b[1;33m\u001b[0m\u001b[1;33m\u001b[0m\u001b[0m\n\u001b[0;32m      4\u001b[0m \u001b[0msummer\u001b[0m \u001b[1;33m=\u001b[0m \u001b[1;33m(\u001b[0m\u001b[0mnp\u001b[0m\u001b[1;33m.\u001b[0m\u001b[0marange\u001b[0m\u001b[1;33m(\u001b[0m\u001b[1;36m365\u001b[0m\u001b[1;33m)\u001b[0m\u001b[1;33m-\u001b[0m\u001b[1;36m172\u001b[0m\u001b[1;33m<\u001b[0m\u001b[1;36m90\u001b[0m\u001b[1;33m)\u001b[0m\u001b[1;33m&\u001b[0m\u001b[1;33m(\u001b[0m\u001b[0mnp\u001b[0m\u001b[1;33m.\u001b[0m\u001b[0marange\u001b[0m\u001b[1;33m(\u001b[0m\u001b[1;36m365\u001b[0m\u001b[1;33m)\u001b[0m\u001b[1;33m-\u001b[0m\u001b[1;36m172\u001b[0m\u001b[1;33m>\u001b[0m\u001b[1;36m0\u001b[0m\u001b[1;33m)\u001b[0m\u001b[1;33m\u001b[0m\u001b[0m\n\u001b[0;32m      5\u001b[0m print(\"Median precip on rainy days in 2014 (inches):\",\n",
      "\u001b[1;31mNameError\u001b[0m: name 'inches' is not defined"
     ]
    }
   ],
   "source": [
    "#inches 정보가 없음..\n",
    "#비가 온 모든 날에 대한 마스크 생성\n",
    "rainy = (inches > 0)\n",
    "#여름에 해당하는 날에 대한 마스크 생성(6월 21일은 172번째 날임)\n",
    "summer = (np.arange(365)-172<90)&(np.arange(365)-172>0)\n",
    "print(\"Median precip on rainy days in 2014 (inches):\",\n",
    "     np.median(inches[rainy]))\n",
    "print(\"Median precip on summer days in 2014 (inches):\",\n",
    "     np.median(inches[summer]))\n",
    "print(\"Maximum precip on summer days in 2014 (inches):\",\n",
    "     np.max(inches[summer]))\n",
    "print(\"Maximum precip on non-summer rainy days in 2014 (inches):\",\n",
    "     np.median(inches[rainy& ~summer]))"
   ]
  },
  {
   "cell_type": "code",
   "execution_count": 7,
   "metadata": {},
   "outputs": [
    {
     "name": "stdout",
     "output_type": "stream",
     "text": [
      "[51 92 14 71 60 20 82 86 74 74]\n"
     ]
    }
   ],
   "source": [
    "#팬시 인덱싱\n",
    "rand=np.random.RandomState(42)\n",
    "x=rand.randint(100,size=10)\n",
    "print(x)"
   ]
  },
  {
   "cell_type": "code",
   "execution_count": 8,
   "metadata": {},
   "outputs": [
    {
     "data": {
      "text/plain": [
       "[71, 86, 14]"
      ]
     },
     "execution_count": 8,
     "metadata": {},
     "output_type": "execute_result"
    }
   ],
   "source": [
    "[x[3],x[7],x[2]]"
   ]
  },
  {
   "cell_type": "code",
   "execution_count": 9,
   "metadata": {},
   "outputs": [
    {
     "data": {
      "text/plain": [
       "array([71, 86, 60])"
      ]
     },
     "execution_count": 9,
     "metadata": {},
     "output_type": "execute_result"
    }
   ],
   "source": [
    "ind=[3,7,4]\n",
    "x[ind]"
   ]
  },
  {
   "cell_type": "code",
   "execution_count": 12,
   "metadata": {},
   "outputs": [
    {
     "data": {
      "text/plain": [
       "array([[71, 86],\n",
       "       [60, 20]])"
      ]
     },
     "execution_count": 12,
     "metadata": {},
     "output_type": "execute_result"
    }
   ],
   "source": [
    "ind=np.array([[3,7],[4,5]])\n",
    "x[ind]"
   ]
  },
  {
   "cell_type": "code",
   "execution_count": 13,
   "metadata": {},
   "outputs": [
    {
     "data": {
      "text/plain": [
       "array([[ 0,  1,  2,  3],\n",
       "       [ 4,  5,  6,  7],\n",
       "       [ 8,  9, 10, 11]])"
      ]
     },
     "execution_count": 13,
     "metadata": {},
     "output_type": "execute_result"
    }
   ],
   "source": [
    "X=np.arange(12).reshape((3,4))\n",
    "X"
   ]
  },
  {
   "cell_type": "code",
   "execution_count": 14,
   "metadata": {},
   "outputs": [
    {
     "data": {
      "text/plain": [
       "array([ 2,  5, 11])"
      ]
     },
     "execution_count": 14,
     "metadata": {},
     "output_type": "execute_result"
    }
   ],
   "source": [
    "row=np.array([0,1,2])\n",
    "col=np.array([2,1,3])\n",
    "X[row,col]"
   ]
  },
  {
   "cell_type": "code",
   "execution_count": 15,
   "metadata": {},
   "outputs": [
    {
     "data": {
      "text/plain": [
       "array([[ 2,  1,  3],\n",
       "       [ 6,  5,  7],\n",
       "       [10,  9, 11]])"
      ]
     },
     "execution_count": 15,
     "metadata": {},
     "output_type": "execute_result"
    }
   ],
   "source": [
    "#0행의 2번째 1번째 3번째, 1행의 2번째, 1번째, 3번째\n",
    "X[row[:,np.newaxis],col]"
   ]
  },
  {
   "cell_type": "code",
   "execution_count": 16,
   "metadata": {},
   "outputs": [
    {
     "data": {
      "text/plain": [
       "array([[0, 0, 0],\n",
       "       [2, 1, 3],\n",
       "       [4, 2, 6]])"
      ]
     },
     "execution_count": 16,
     "metadata": {},
     "output_type": "execute_result"
    }
   ],
   "source": [
    "row[:,np.newaxis]*col"
   ]
  },
  {
   "cell_type": "code",
   "execution_count": 17,
   "metadata": {},
   "outputs": [
    {
     "data": {
      "text/plain": [
       "array([10,  8,  9])"
      ]
     },
     "execution_count": 17,
     "metadata": {},
     "output_type": "execute_result"
    }
   ],
   "source": [
    "#결합 인덱싱 2행의 2번째 0번째 1번째 요소 반환\n",
    "X[2,[2,0,1]]"
   ]
  },
  {
   "cell_type": "code",
   "execution_count": 19,
   "metadata": {},
   "outputs": [
    {
     "data": {
      "text/plain": [
       "array([[ 0,  2],\n",
       "       [ 4,  6],\n",
       "       [ 8, 10]])"
      ]
     },
     "execution_count": 19,
     "metadata": {},
     "output_type": "execute_result"
    }
   ],
   "source": [
    "#mask가 참 거짓 참 거짓으로 반환 따라서 0번째 2번째 요소값들 반환\n",
    "mask = np.array([1,0,1,0],dtype=bool)\n",
    "X[row[:,np.newaxis],mask]"
   ]
  },
  {
   "cell_type": "code",
   "execution_count": 23,
   "metadata": {},
   "outputs": [
    {
     "data": {
      "text/plain": [
       "(100, 2)"
      ]
     },
     "execution_count": 23,
     "metadata": {},
     "output_type": "execute_result"
    }
   ],
   "source": [
    "mean=[0,0]\n",
    "cov=[[1,2],[2,5]]\n",
    "X=rand.multivariate_normal(mean,cov,100)\n",
    "X.shape"
   ]
  },
  {
   "cell_type": "code",
   "execution_count": 25,
   "metadata": {},
   "outputs": [
    {
     "data": {
      "image/png": "[encoded data removed]",
      "text/plain": [
       "<matplotlib.figure.Figure at 0x1c5198ef8d0>"
      ]
     },
     "metadata": {},
     "output_type": "display_data"
    }
   ],
   "source": [
    "#2차원에 100개 점을 표기 \n",
    "%matplotlib inline\n",
    "import matplotlib.pyplot as plt\n",
    "import seaborn; seaborn.set()#플롯스타일 설정\n",
    "plt.scatter(X[:,0],X[:,1]);"
   ]
  },
  {
   "cell_type": "code",
   "execution_count": 26,
   "metadata": {},
   "outputs": [
    {
     "data": {
      "text/plain": [
       "array([70,  7, 76, 38,  8, 59, 36, 61, 85, 69, 62,  2, 16, 10,  4, 90, 96,\n",
       "       56, 89, 40])"
      ]
     },
     "execution_count": 26,
     "metadata": {},
     "output_type": "execute_result"
    }
   ],
   "source": [
    "indices = np.random.choice(X.shape[0],20,replace=False)\n",
    "indices"
   ]
  },
  {
   "cell_type": "code",
   "execution_count": 27,
   "metadata": {},
   "outputs": [
    {
     "data": {
      "text/plain": [
       "(20, 2)"
      ]
     },
     "execution_count": 27,
     "metadata": {},
     "output_type": "execute_result"
    }
   ],
   "source": [
    "selection = X[indices]#팬시 인덱싱\n",
    "selection.shape"
   ]
  },
  {
   "cell_type": "code",
   "execution_count": 29,
   "metadata": {},
   "outputs": [
    {
     "data": {
      "text/plain": [
       "<matplotlib.collections.PathCollection at 0x1c51d76a8d0>"
      ]
     },
     "execution_count": 29,
     "metadata": {},
     "output_type": "execute_result"
    },
    {
     "data": {
      "image/png": "[encoded data removed]",
      "text/plain": [
       "<matplotlib.figure.Figure at 0x1c51c496be0>"
      ]
     },
     "metadata": {},
     "output_type": "display_data"
    }
   ],
   "source": [
    "plt.scatter(X[:,0],X[:,1],alpha=0.3)\n",
    "plt.scatter(selection[:,0],selection[:,1],facecolor='none',s=200)"
   ]
  },
  {
   "cell_type": "code",
   "execution_count": 30,
   "metadata": {},
   "outputs": [
    {
     "name": "stdout",
     "output_type": "stream",
     "text": [
      "[ 0 99 99  3 99  5  6  7 99  9]\n"
     ]
    }
   ],
   "source": [
    "#팬시 인덱싱으로 삽입을 할 수 있다.\n",
    "x=np.arange(10)\n",
    "i=np.array([2,1,8,4])\n",
    "x[i]=99\n",
    "print(x)"
   ]
  },
  {
   "cell_type": "code",
   "execution_count": 31,
   "metadata": {},
   "outputs": [
    {
     "name": "stdout",
     "output_type": "stream",
     "text": [
      "[ 0 89 89  3 89  5  6  7 89  9]\n"
     ]
    }
   ],
   "source": [
    "#연산도 가능하다\n",
    "x[i]-=10\n",
    "print(x)"
   ]
  },
  {
   "cell_type": "code",
   "execution_count": 32,
   "metadata": {},
   "outputs": [
    {
     "name": "stdout",
     "output_type": "stream",
     "text": [
      "[ 6.  0.  0.  0.  0.  0.  0.  0.  0.  0.]\n"
     ]
    }
   ],
   "source": [
    "#반복되는 인덱스는 오류를 초래한다.\n",
    "x=np.zeros(10)\n",
    "x[[0,0]]=[4,6]\n",
    "print(x)"
   ]
  },
  {
   "cell_type": "code",
   "execution_count": 33,
   "metadata": {},
   "outputs": [
    {
     "data": {
      "text/plain": [
       "array([ 6.,  0.,  1.,  1.,  1.,  0.,  0.,  0.,  0.,  0.])"
      ]
     },
     "execution_count": 33,
     "metadata": {},
     "output_type": "execute_result"
    }
   ],
   "source": [
    "#x[3] 이 2 , x[4] 가 3이 나와야 할 것 같지만 나오지 않는다. 그 이유로는 여러 차례 일어나는 증가가 아니라 할당의 의미를 가지고 있기 때문\n",
    "i=[2,3,3,4,4,4]\n",
    "x[i]+=1\n",
    "x"
   ]
  },
  {
   "cell_type": "code",
   "execution_count": 34,
   "metadata": {},
   "outputs": [
    {
     "name": "stdout",
     "output_type": "stream",
     "text": [
      "[ 0.  0.  1.  2.  3.  0.  0.  0.  0.  0.]\n"
     ]
    }
   ],
   "source": [
    "#at을 사용하면 반복하여 사용 할 수 있다.\n",
    "x=np.zeros(10)\n",
    "np.add.at(x,i,1)\n",
    "print(x)"
   ]
  },
  {
   "cell_type": "code",
   "execution_count": 37,
   "metadata": {},
   "outputs": [],
   "source": [
    "np.random.seed(42)\n",
    "x= np.random.randn(100)\n",
    "#직접 히스토그램 계산하기\n",
    "bins= np.linspace(-5,5,20)\n",
    "counts= np.zeros_like(bins)\n",
    "#각 x에 대한 적절한 구간 찾기\n",
    "i = np.searchsorted(bins,x)\n",
    "#각 구간에 1 더하기\n",
    "np.add.at(counts,i,1)"
   ]
  },
  {
   "cell_type": "code",
   "execution_count": 38,
   "metadata": {},
   "outputs": [
    {
     "data": {
      "image/png": "[encoded data removed]",
      "text/plain": [
       "<matplotlib.figure.Figure at 0x1c51c6fdbe0>"
      ]
     },
     "metadata": {},
     "output_type": "display_data"
    }
   ],
   "source": [
    "#결과 플롯팅하기\n",
    "plt.plot(bins,counts,linestyle='steps');"
   ]
  },
  {
   "cell_type": "code",
   "execution_count": 40,
   "metadata": {},
   "outputs": [
    {
     "data": {
      "image/png": "[encoded data removed]",
      "text/plain": [
       "<matplotlib.figure.Figure at 0x1c51d8cdda0>"
      ]
     },
     "metadata": {},
     "output_type": "display_data"
    }
   ],
   "source": [
    "plt.hist(x,bins,histtype='step');"
   ]
  },
  {
   "cell_type": "code",
   "execution_count": 47,
   "metadata": {},
   "outputs": [],
   "source": [
    "#배열 정렬\n",
    "#선택 정렬: 로직이 단순하지만 배열이 큰 경우에는 너무 느림\n",
    "def selection_sort(x):\n",
    "    for i in range(len(x)):\n",
    "        swap= i +np.argmin(x[i:])\n",
    "        (x[i],x[swap])=(x[swap],x[i])\n",
    "    return x"
   ]
  },
  {
   "cell_type": "code",
   "execution_count": 46,
   "metadata": {},
   "outputs": [
    {
     "data": {
      "text/plain": [
       "array([1, 2, 3, 4, 5])"
      ]
     },
     "execution_count": 46,
     "metadata": {},
     "output_type": "execute_result"
    }
   ],
   "source": [
    "x=np.array([2,1,4,3,5])\n",
    "selection_sort(x)"
   ]
  },
  {
   "cell_type": "code",
   "execution_count": 51,
   "metadata": {},
   "outputs": [
    {
     "data": {
      "text/plain": [
       "array([1, 2, 3, 4, 5])"
      ]
     },
     "execution_count": 51,
     "metadata": {},
     "output_type": "execute_result"
    }
   ],
   "source": [
    "#보고 정렬 운으로 하는 정렬 거의 사용안함\n",
    "def bogosort(x):\n",
    "    while np.any(x[:-1]>x[1:]):\n",
    "        np.random.shuffle(x)\n",
    "    return x\n",
    "x=np.array([2,1,4,3,5])\n",
    "bogosort(x)"
   ]
  },
  {
   "cell_type": "code",
   "execution_count": 52,
   "metadata": {},
   "outputs": [
    {
     "data": {
      "text/plain": [
       "array([1, 2, 3, 4, 5])"
      ]
     },
     "execution_count": 52,
     "metadata": {},
     "output_type": "execute_result"
    }
   ],
   "source": [
    "x=np.array([2,1,4,3,5])\n",
    "np.sort(x)#x.sort()도 가능"
   ]
  },
  {
   "cell_type": "code",
   "execution_count": 53,
   "metadata": {},
   "outputs": [
    {
     "name": "stdout",
     "output_type": "stream",
     "text": [
      "[1 0 3 2 4]\n"
     ]
    },
    {
     "data": {
      "text/plain": [
       "array([1, 2, 3, 4, 5])"
      ]
     },
     "execution_count": 53,
     "metadata": {},
     "output_type": "execute_result"
    }
   ],
   "source": [
    "#인덱스를 찾으려 할 때\n",
    "x=np.array([2,1,4,3,5])\n",
    "i=np.argsort(x)\n",
    "print(i)\n",
    "x[i]"
   ]
  },
  {
   "cell_type": "code",
   "execution_count": 54,
   "metadata": {},
   "outputs": [
    {
     "name": "stdout",
     "output_type": "stream",
     "text": [
      "[[6 3 7 4 6 9]\n",
      " [2 6 7 4 3 7]\n",
      " [7 2 5 4 1 7]\n",
      " [5 1 4 0 9 5]]\n"
     ]
    }
   ],
   "source": [
    "#행이나 열 기준으로 정렬하기\n",
    "rand=np.random.RandomState(42)\n",
    "X=rand.randint(0,10,(4,6))\n",
    "print(X)"
   ]
  },
  {
   "cell_type": "code",
   "execution_count": 55,
   "metadata": {},
   "outputs": [
    {
     "data": {
      "text/plain": [
       "array([[2, 1, 4, 0, 1, 5],\n",
       "       [5, 2, 5, 4, 3, 7],\n",
       "       [6, 3, 7, 4, 6, 7],\n",
       "       [7, 6, 7, 4, 9, 9]])"
      ]
     },
     "execution_count": 55,
     "metadata": {},
     "output_type": "execute_result"
    }
   ],
   "source": [
    "#X의 각 열을 정렬\n",
    "np.sort(X,axis=0)"
   ]
  },
  {
   "cell_type": "code",
   "execution_count": 56,
   "metadata": {},
   "outputs": [
    {
     "data": {
      "text/plain": [
       "array([[3, 4, 6, 6, 7, 9],\n",
       "       [2, 3, 4, 6, 7, 7],\n",
       "       [1, 2, 4, 5, 7, 7],\n",
       "       [0, 1, 4, 5, 5, 9]])"
      ]
     },
     "execution_count": 56,
     "metadata": {},
     "output_type": "execute_result"
    }
   ],
   "source": [
    "#X의 각 행을 정렬\n",
    "np.sort(X,axis=1)"
   ]
  },
  {
   "cell_type": "code",
   "execution_count": 57,
   "metadata": {},
   "outputs": [
    {
     "data": {
      "text/plain": [
       "array([2, 1, 3, 4, 6, 5, 7])"
      ]
     },
     "execution_count": 57,
     "metadata": {},
     "output_type": "execute_result"
    }
   ],
   "source": [
    "#왼쪽 3개가 작은 값들 나머지는 랜덤 배열\n",
    "x=np.array([7,2,3,1,6,5,4])\n",
    "np.partition(x,3)"
   ]
  },
  {
   "cell_type": "code",
   "execution_count": 58,
   "metadata": {},
   "outputs": [
    {
     "data": {
      "text/plain": [
       "array([[3, 4, 6, 7, 6, 9],\n",
       "       [2, 3, 4, 7, 6, 7],\n",
       "       [1, 2, 4, 5, 7, 7],\n",
       "       [0, 1, 4, 5, 9, 5]])"
      ]
     },
     "execution_count": 58,
     "metadata": {},
     "output_type": "execute_result"
    }
   ],
   "source": [
    "#왼쪽 2개열은 작은 값들\n",
    "np.partition(X,2,axis=1)"
   ]
  },
  {
   "cell_type": "code",
   "execution_count": 59,
   "metadata": {
    "collapsed": true
   },
   "outputs": [],
   "source": [
    "X=rand.rand(10,2)"
   ]
  },
  {
   "cell_type": "code",
   "execution_count": 61,
   "metadata": {},
   "outputs": [
    {
     "data": {
      "text/plain": [
       "<matplotlib.collections.PathCollection at 0x1c51da4b320>"
      ]
     },
     "execution_count": 61,
     "metadata": {},
     "output_type": "execute_result"
    },
    {
     "data": {
      "image/png": "[encoded data removed]",
      "text/plain": [
       "<matplotlib.figure.Figure at 0x1c51c450c18>"
      ]
     },
     "metadata": {},
     "output_type": "display_data"
    }
   ],
   "source": [
    "%matplotlib inline\n",
    "import matplotlib.pyplot as plt\n",
    "import seaborn; seaborn.set()\n",
    "plt.scatter(X[:,0],X[:,1],s=100)"
   ]
  },
  {
   "cell_type": "code",
   "execution_count": 62,
   "metadata": {
    "collapsed": true
   },
   "outputs": [],
   "source": [
    "#각 점들간의 거리 제곱\n",
    "dist_sq =np.sum((X[:,np.newaxis,:]-X[np.newaxis,:,:])**2,axis=1)"
   ]
  },
  {
   "cell_type": "code",
   "execution_count": 65,
   "metadata": {},
   "outputs": [
    {
     "data": {
      "text/plain": [
       "(10, 10, 2)"
      ]
     },
     "execution_count": 65,
     "metadata": {},
     "output_type": "execute_result"
    }
   ],
   "source": [
    "difference=X[:,np.newaxis,:]-X[np.newaxis,:,:]\n",
    "difference.shape"
   ]
  },
  {
   "cell_type": "code",
   "execution_count": 66,
   "metadata": {},
   "outputs": [
    {
     "data": {
      "text/plain": [
       "(10, 10, 2)"
      ]
     },
     "execution_count": 66,
     "metadata": {},
     "output_type": "execute_result"
    }
   ],
   "source": [
    "sq_difference=difference**2\n",
    "sq_difference.shape"
   ]
  },
  {
   "cell_type": "code",
   "execution_count": 67,
   "metadata": {},
   "outputs": [
    {
     "data": {
      "text/plain": [
       "(10, 10)"
      ]
     },
     "execution_count": 67,
     "metadata": {},
     "output_type": "execute_result"
    }
   ],
   "source": [
    "dist_sq=sq_difference.sum(-1)\n",
    "dist_sq.shape"
   ]
  },
  {
   "cell_type": "code",
   "execution_count": 68,
   "metadata": {},
   "outputs": [
    {
     "data": {
      "text/plain": [
       "array([ 0.,  0.,  0.,  0.,  0.,  0.,  0.,  0.,  0.,  0.])"
      ]
     },
     "execution_count": 68,
     "metadata": {},
     "output_type": "execute_result"
    }
   ],
   "source": [
    "#각 점과 그 점 자신 사이의 거리 집합이 모두 0인지 확인\n",
    "dist_sq.diagonal()"
   ]
  },
  {
   "cell_type": "code",
   "execution_count": 69,
   "metadata": {},
   "outputs": [
    {
     "name": "stdout",
     "output_type": "stream",
     "text": [
      "[[0 3 9 7 1 4 2 5 6 8]\n",
      " [1 4 7 9 3 6 8 5 0 2]\n",
      " [2 1 4 6 3 0 8 9 7 5]\n",
      " [3 9 7 0 1 4 5 8 6 2]\n",
      " [4 1 8 5 6 7 9 3 0 2]\n",
      " [5 8 6 4 1 7 9 3 2 0]\n",
      " [6 8 5 4 1 7 9 3 2 0]\n",
      " [7 9 3 1 4 0 5 8 6 2]\n",
      " [8 5 6 4 1 7 9 3 2 0]\n",
      " [9 7 3 0 1 4 5 8 6 2]]\n"
     ]
    }
   ],
   "source": [
    "nearest=np.argsort(dist_sq,axis=1)\n",
    "print(nearest)"
   ]
  },
  {
   "cell_type": "code",
   "execution_count": 70,
   "metadata": {
    "collapsed": true
   },
   "outputs": [],
   "source": [
    "K=2\n",
    "nearest_partition = np.argpartition(dist_sq,K+1,axis=1)"
   ]
  },
  {
   "cell_type": "code",
   "execution_count": 73,
   "metadata": {},
   "outputs": [
    {
     "data": {
      "image/png": "[encoded data removed]",
      "text/plain": [
       "<matplotlib.figure.Figure at 0x1c51db42400>"
      ]
     },
     "metadata": {},
     "output_type": "display_data"
    }
   ],
   "source": [
    "plt.scatter(X[:,0],X[:,1],s=100)\n",
    "#각 점을 두 개의 가장 가까운 이웃과 선으로 이음\n",
    "K=2\n",
    "for i in range(X.shape[0]):\n",
    "    for j in nearest_partition[i,:K+1]:\n",
    "        #X[i]부터 X[j]까지 이음\n",
    "        plt.plot(*zip(X[j],X[i]),color='black')"
   ]
  },
  {
   "cell_type": "code",
   "execution_count": null,
   "metadata": {
    "collapsed": true
   },
   "outputs": [],
   "source": []
  }
 ],
 "metadata": {
  "kernelspec": {
   "display_name": "Python 3",
   "language": "python",
   "name": "python3"
  },
  "language_info": {
   "codemirror_mode": {
    "name": "ipython",
    "version": 3
   },
   "file_extension": ".py",
   "mimetype": "text/x-python",
   "name": "python",
   "nbconvert_exporter": "python",
   "pygments_lexer": "ipython3",
   "version": "3.6.1"
  }
 },
 "nbformat": 4,
 "nbformat_minor": 2
}
